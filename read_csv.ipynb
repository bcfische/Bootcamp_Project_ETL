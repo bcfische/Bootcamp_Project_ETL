{
 "cells": [
  {
   "cell_type": "code",
   "execution_count": 1,
   "metadata": {},
   "outputs": [],
   "source": [
    "import pandas as pd"
   ]
  },
  {
   "cell_type": "code",
   "execution_count": 2,
   "metadata": {},
   "outputs": [],
   "source": [
    "data = pd.read_csv('kepler.csv')"
   ]
  },
  {
   "cell_type": "code",
   "execution_count": 3,
   "metadata": {},
   "outputs": [
    {
     "name": "stdout",
     "output_type": "stream",
     "text": [
      "# name\n",
      "planet_status\n",
      "mass\n",
      "mass_error_min\n",
      "mass_error_max\n",
      "mass_sini\n",
      "mass_sini_error_min\n",
      "mass_sini_error_max\n",
      "radius\n",
      "radius_error_min\n",
      "radius_error_max\n",
      "orbital_period\n",
      "orbital_period_error_min\n",
      "orbital_period_error_max\n",
      "semi_major_axis\n",
      "semi_major_axis_error_min\n",
      "semi_major_axis_error_max\n",
      "eccentricity\n",
      "eccentricity_error_min\n",
      "eccentricity_error_max\n",
      "inclination\n",
      "inclination_error_min\n",
      "inclination_error_max\n",
      "angular_distance\n",
      "discovered\n",
      "updated\n",
      "omega\n",
      "omega_error_min\n",
      "omega_error_max\n",
      "tperi\n",
      "tperi_error_min\n",
      "tperi_error_max\n",
      "tconj\n",
      "tconj_error_min\n",
      "tconj_error_max\n",
      "tzero_tr\n",
      "tzero_tr_error_min\n",
      "tzero_tr_error_max\n",
      "tzero_tr_sec\n",
      "tzero_tr_sec_error_min\n",
      "tzero_tr_sec_error_max\n",
      "lambda_angle\n",
      "lambda_angle_error_min\n",
      "lambda_angle_error_max\n",
      "impact_parameter\n",
      "impact_parameter_error_min\n",
      "impact_parameter_error_max\n",
      "tzero_vr\n",
      "tzero_vr_error_min\n",
      "tzero_vr_error_max\n",
      "k\n",
      "k_error_min\n",
      "k_error_max\n",
      "temp_calculated\n",
      "temp_calculated_error_min\n",
      "temp_calculated_error_max\n",
      "temp_measured\n",
      "hot_point_lon\n",
      "geometric_albedo\n",
      "geometric_albedo_error_min\n",
      "geometric_albedo_error_max\n",
      "log_g\n",
      "publication_status\n",
      "detection_type\n",
      "mass_detection_type\n",
      "radius_detection_type\n",
      "alternate_names\n",
      "molecules\n",
      "star_name\n",
      "ra\n",
      "dec\n",
      "mag_v\n",
      "mag_i\n",
      "mag_j\n",
      "mag_h\n",
      "mag_k\n",
      "star_distance\n",
      "star_distance_error_min\n",
      "star_distance_error_max\n",
      "star_metallicity\n",
      "star_metallicity_error_min\n",
      "star_metallicity_error_max\n",
      "star_mass\n",
      "star_mass_error_min\n",
      "star_mass_error_max\n",
      "star_radius\n",
      "star_radius_error_min\n",
      "star_radius_error_max\n",
      "star_sp_type\n",
      "star_age\n",
      "star_age_error_min\n",
      "star_age_error_max\n",
      "star_teff\n",
      "star_teff_error_min\n",
      "star_teff_error_max\n",
      "star_detected_disc\n",
      "star_magnetic_field\n",
      "star_alternate_names\n"
     ]
    }
   ],
   "source": [
    "for col in data.columns: \n",
    "    print(col)"
   ]
  },
  {
   "cell_type": "code",
   "execution_count": 4,
   "metadata": {},
   "outputs": [],
   "source": [
    "a2 = pd.read_csv('table_a2.csv')"
   ]
  },
  {
   "cell_type": "code",
   "execution_count": 5,
   "metadata": {},
   "outputs": [
    {
     "data": {
      "text/plain": [
       "['TRAPPIST-1 d',\n",
       " 'GJ 3323 b',\n",
       " 'Kepler-438 b',\n",
       " 'Ross 128 b',\n",
       " 'GJ 273 b',\n",
       " 'Kepler-296 e',\n",
       " 'Kepler-62 e',\n",
       " 'Kepler-452 b',\n",
       " 'K2-72 e',\n",
       " 'Wolf 1061 c',\n",
       " 'GJ 832 c',\n",
       " 'K2-3 d',\n",
       " 'Kepler-1544 b',\n",
       " 'Kepler-283 c',\n",
       " 'tau Cet e',\n",
       " 'Kepler-1410 b',\n",
       " 'GJ 180 c',\n",
       " 'HD 283869 b',\n",
       " 'Kepler-1638 b',\n",
       " 'Kepler-440 b',\n",
       " 'GJ 180 b',\n",
       " 'Kepler-705 b',\n",
       " 'HD 40307 g',\n",
       " 'GJ 163 c',\n",
       " 'Kepler-61 b',\n",
       " 'K2-18 b',\n",
       " 'Kepler-1606 b',\n",
       " 'Kepler-1090 b',\n",
       " 'Kepler-443 b',\n",
       " 'Kepler-22 b',\n",
       " 'GJ 422 b',\n",
       " 'K2-9 b',\n",
       " 'Kepler-1552 b',\n",
       " 'Kepler-1540 b',\n",
       " 'GJ 3293 d',\n",
       " 'Kepler-298 d',\n",
       " 'KIC-5522786 b',\n",
       " 'Kepler-174 d',\n",
       " 'Kepler-296 f',\n",
       " 'GJ 682 c',\n",
       " 'KOI-4427 b']"
      ]
     },
     "execution_count": 5,
     "metadata": {},
     "output_type": "execute_result"
    }
   ],
   "source": [
    "names_a2 = []\n",
    "for d in a2[a2.columns[0]]:\n",
    "    # Remove leading number descriptor and trailing '*'\n",
    "    names_a2.append(d[5:].strip('*'))\n",
    "names_a2"
   ]
  },
  {
   "cell_type": "code",
   "execution_count": 6,
   "metadata": {},
   "outputs": [],
   "source": [
    "k2 = pd.read_csv('table_k2.csv')"
   ]
  },
  {
   "cell_type": "code",
   "execution_count": 7,
   "metadata": {},
   "outputs": [
    {
     "data": {
      "text/plain": [
       "['Kepler-395 c',\n",
       " 'Kepler-438 b',\n",
       " 'KOI-7179.01',\n",
       " 'KOI-3010.01',\n",
       " 'Kepler-442 b',\n",
       " 'KOI-463.01',\n",
       " 'KOI-4550.01',\n",
       " 'Kepler-62 e',\n",
       " 'KOI-4036.01',\n",
       " 'KOI-6676.01',\n",
       " 'Kepler-155 c',\n",
       " 'KOI-5475.01',\n",
       " 'KOI-5856.01',\n",
       " 'Kepler-235 e',\n",
       " 'Kepler-436 b',\n",
       " 'KOI-7554.01',\n",
       " 'KOI-5236.01',\n",
       " 'KOI-3282.01',\n",
       " 'Kepler-69 c',\n",
       " 'KOI-4450.01',\n",
       " 'KOI-4103.01',\n",
       " 'KOI-4054.01',\n",
       " 'KOI-5202.01',\n",
       " 'KOI-7587.01',\n",
       " 'KOI-1871.01',\n",
       " 'Kepler-22 b',\n",
       " 'Kepler-443 b',\n",
       " 'KOI-2020.01',\n",
       " 'Kepler-26 e',\n",
       " 'KOI-854.01',\n",
       " 'Kepler-61 b',\n",
       " 'KOI-6343.01',\n",
       " 'KOI-1876.01',\n",
       " 'KOI-7470.01',\n",
       " 'KOI-5276.01',\n",
       " 'KOI-7345.01',\n",
       " 'KOI-4016.01',\n",
       " 'KOI-2834.01',\n",
       " 'KOI-4458.01',\n",
       " 'Kepler-439 b',\n",
       " 'KOI-6734.01',\n",
       " 'KOI-7136.01',\n",
       " 'KOI-3946.01',\n",
       " 'KOI-7040.01',\n",
       " 'Kepler-309 c',\n",
       " 'Kepler-441 b',\n",
       " 'KOI-2770.01',\n",
       " 'Kepler-186 f',\n",
       " 'Kepler-174 d',\n",
       " 'KOI-4356.01',\n",
       " 'KOI-959.01']"
      ]
     },
     "execution_count": 7,
     "metadata": {},
     "output_type": "execute_result"
    }
   ],
   "source": [
    "names_k2 = []\n",
    "for d in k2[k2.columns[0]]:\n",
    "    # Remove leading number descriptor and trailing '*'\n",
    "    names_k2.append(d[5:].strip('*'))\n",
    "names_k2"
   ]
  },
  {
   "cell_type": "code",
   "execution_count": 8,
   "metadata": {},
   "outputs": [
    {
     "name": "stdout",
     "output_type": "stream",
     "text": [
      "TRAPPIST-1 d\n",
      "GJ 3323 b\n",
      "Kepler-438 b\n",
      "Ross 128 b\n",
      "GJ 273 b\n",
      "Kepler-296 e\n",
      "Kepler-62 e\n",
      "Kepler-452 b\n",
      "Wolf 1061 c\n",
      "GJ 832 c\n",
      "K2-3 d\n",
      "Kepler-1544 b\n",
      "Kepler-283 c\n",
      "tau Cet e\n",
      "Kepler-1410 b\n",
      "GJ 180 c\n",
      "Kepler-1638 b\n",
      "Kepler-440 b\n",
      "GJ 180 b\n",
      "Kepler-705 b\n",
      "HD 40307 g\n",
      "GJ 163 c\n",
      "Kepler-61 b\n",
      "K2-18 b\n",
      "Kepler-1606 b\n",
      "Kepler-1090 b\n",
      "Kepler-443 b\n",
      "Kepler-22 b\n",
      "GJ 422 b\n",
      "K2-9 b\n",
      "Kepler-1552 b\n",
      "Kepler-1540 b\n",
      "GJ 3293 d\n",
      "Kepler-298 d\n",
      "Kepler-174 d\n",
      "Kepler-296 f\n",
      "GJ 682 c\n"
     ]
    }
   ],
   "source": [
    "for name in names_a2:\n",
    "    if name in data['# name'].tolist():\n",
    "        print(f\"{name}\")"
   ]
  },
  {
   "cell_type": "code",
   "execution_count": 9,
   "metadata": {},
   "outputs": [
    {
     "name": "stdout",
     "output_type": "stream",
     "text": [
      "Kepler-395 c\n",
      "Kepler-438 b\n",
      "Kepler-442 b\n",
      "Kepler-62 e\n",
      "Kepler-155 c\n",
      "Kepler-235 e\n",
      "Kepler-436 b\n",
      "Kepler-69 c\n",
      "Kepler-22 b\n",
      "Kepler-443 b\n",
      "Kepler-26 e\n",
      "Kepler-61 b\n",
      "Kepler-439 b\n",
      "Kepler-309 c\n",
      "Kepler-441 b\n",
      "Kepler-186 f\n",
      "Kepler-174 d\n"
     ]
    }
   ],
   "source": [
    "for name in names_k2:\n",
    "    if name in data['# name'].tolist():\n",
    "        print(f\"{name}\")"
   ]
  },
  {
   "cell_type": "code",
   "execution_count": null,
   "metadata": {},
   "outputs": [],
   "source": []
  }
 ],
 "metadata": {
  "kernelspec": {
   "display_name": "Python [conda env:PythonData]",
   "language": "python",
   "name": "conda-env-PythonData-py"
  },
  "language_info": {
   "codemirror_mode": {
    "name": "ipython",
    "version": 3
   },
   "file_extension": ".py",
   "mimetype": "text/x-python",
   "name": "python",
   "nbconvert_exporter": "python",
   "pygments_lexer": "ipython3",
   "version": "3.6.7"
  }
 },
 "nbformat": 4,
 "nbformat_minor": 2
}
